{
  "nbformat": 4,
  "nbformat_minor": 0,
  "metadata": {
    "colab": {
      "provenance": []
    },
    "kernelspec": {
      "name": "python3",
      "display_name": "Python 3"
    },
    "language_info": {
      "name": "python"
    }
  },
  "cells": [
    {
      "cell_type": "code",
      "source": [
        "import pandas as pd\n",
        "import matplotlib.pyplot as plt\n",
        "import requests\n",
        "\n",
        "# Read data into dataframes\n",
        "confirmed_cases_url = \"https://raw.githubusercontent.com/CSSEGISandData/COVID-19/master/csse_covid_19_data/csse_covid_19_time_series/time_series_covid19_confirmed_global.csv\"\n",
        "deaths_url = \"https://raw.githubusercontent.com/CSSEGISandData/COVID-19/master/csse_covid_19_data/csse_covid_19_time_series/time_series_covid19_deaths_global.csv\"\n",
        "df_cases = pd.read_csv(confirmed_cases_url)\n",
        "df_deaths = pd.read_csv(deaths_url)\n",
        "\n",
        "# Aggregate data to create global dataframe\n",
        "df_global = pd.DataFrame({\n",
        "    'Total Confirmed Cases': df_cases.iloc[:, -1].sum(),\n",
        "    'Total Deaths': df_deaths.iloc[:, -1].sum()\n",
        "}, index=[0])\n",
        "\n",
        "# Set up Alpha Vantage API parameters\n",
        "api_key = '<TC54JI2GWZOZ8I0J>'\n",
        "symbols = ['SPY', 'XIC.TO', 'TRV', 'SPG', 'GLD']\n",
        "params = {\n",
        "    'function': 'TIME_SERIES_DAILY',\n",
        "    'outputsize': 'compact',\n",
        "    'apikey': api_key\n",
        "}\n",
        "\n",
        "# Get stock data and append to global dataframe\n",
        "for symbol in symbols:\n",
        "    params['symbol'] = symbol\n",
        "    response = requests.get('https://www.alphavantage.co/query', params=params)\n",
        "    data = response.json()['Time Series (Daily)']\n",
        "    df = pd.DataFrame.from_dict(data, orient='index')\n",
        "    df.index = pd.to_datetime(df.index)\n",
        "    df.columns = [f'{col}_{symbol}' for col in df.columns]\n",
        "    df_global = pd.concat([df_global, df], axis=1)\n",
        "\n",
        "# Create plot\n",
        "fig, ax = plt.subplots(figsize=(10, 6))\n",
        "\n",
        "ax.plot(df_global.index, df_global['Total Confirmed Cases'], label='Total Confirmed Cases')\n",
        "ax.plot(df_global.index, df_global['Total Deaths'], label='Total Deaths')\n",
        "ax.plot(df_global.index, df_global['2. high_SPY'], label='SPY High')\n",
        "ax.plot(df_global.index, df_global['3. low_SPY'], label='SPY Low')\n",
        "ax.plot(df_global.index, df_global['2. high_XIC.TO'], label='XIC.TO High')\n",
        "ax.plot(df_global.index, df_global['3. low_XIC.TO'], label='XIC.TO Low')\n",
        "ax.plot(df_global.index, df_global['2. high_TRV'], label='TRV High')\n",
        "ax.plot(df_global.index, df_global['3. low_TRV'], label='TRV Low')\n",
        "ax.plot(df_global.index, df_global['2. high_SPG'], label='SPG High')\n",
        "ax.plot(df_global.index, df_global['3. low_SPG'], label='SPG Low')\n",
        "ax.plot(df_global.index, df_global['2. high_GLD'], label='GLD High')\n",
        "ax.plot(df_global.index, df_global['3. low_GLD'], label='GLD Low')\n",
        "\n",
        "ax.set_title('COVID-19 Cases and Stock Prices')\n",
        "ax.set_xlabel('Date')\n",
        "ax.set_ylabel('Number of Cases / Stock Price')\n",
        "ax.legend()\n",
        "\n",
        "plt.show()\n"
      ],
      "metadata": {
        "colab": {
          "base_uri": "https://localhost:8080/",
          "height": 235
        },
        "id": "OZKN-SkCH_f-",
        "outputId": "0a2ed797-1dfd-415d-b29c-e4107af93222"
      },
      "execution_count": 7,
      "outputs": [
        {
          "output_type": "error",
          "ename": "KeyError",
          "evalue": "ignored",
          "traceback": [
            "\u001b[0;31m---------------------------------------------------------------------------\u001b[0m",
            "\u001b[0;31mKeyError\u001b[0m                                  Traceback (most recent call last)",
            "\u001b[0;32m<ipython-input-7-58d437a16db3>\u001b[0m in \u001b[0;36m<cell line: 27>\u001b[0;34m()\u001b[0m\n\u001b[1;32m     28\u001b[0m     \u001b[0mparams\u001b[0m\u001b[0;34m[\u001b[0m\u001b[0;34m'symbol'\u001b[0m\u001b[0;34m]\u001b[0m \u001b[0;34m=\u001b[0m \u001b[0msymbol\u001b[0m\u001b[0;34m\u001b[0m\u001b[0;34m\u001b[0m\u001b[0m\n\u001b[1;32m     29\u001b[0m     \u001b[0mresponse\u001b[0m \u001b[0;34m=\u001b[0m \u001b[0mrequests\u001b[0m\u001b[0;34m.\u001b[0m\u001b[0mget\u001b[0m\u001b[0;34m(\u001b[0m\u001b[0;34m'https://www.alphavantage.co/query'\u001b[0m\u001b[0;34m,\u001b[0m \u001b[0mparams\u001b[0m\u001b[0;34m=\u001b[0m\u001b[0mparams\u001b[0m\u001b[0;34m)\u001b[0m\u001b[0;34m\u001b[0m\u001b[0;34m\u001b[0m\u001b[0m\n\u001b[0;32m---> 30\u001b[0;31m     \u001b[0mdata\u001b[0m \u001b[0;34m=\u001b[0m \u001b[0mresponse\u001b[0m\u001b[0;34m.\u001b[0m\u001b[0mjson\u001b[0m\u001b[0;34m(\u001b[0m\u001b[0;34m)\u001b[0m\u001b[0;34m[\u001b[0m\u001b[0;34m'Time Series (Daily)'\u001b[0m\u001b[0;34m]\u001b[0m\u001b[0;34m\u001b[0m\u001b[0;34m\u001b[0m\u001b[0m\n\u001b[0m\u001b[1;32m     31\u001b[0m     \u001b[0mdf\u001b[0m \u001b[0;34m=\u001b[0m \u001b[0mpd\u001b[0m\u001b[0;34m.\u001b[0m\u001b[0mDataFrame\u001b[0m\u001b[0;34m.\u001b[0m\u001b[0mfrom_dict\u001b[0m\u001b[0;34m(\u001b[0m\u001b[0mdata\u001b[0m\u001b[0;34m,\u001b[0m \u001b[0morient\u001b[0m\u001b[0;34m=\u001b[0m\u001b[0;34m'index'\u001b[0m\u001b[0;34m)\u001b[0m\u001b[0;34m\u001b[0m\u001b[0;34m\u001b[0m\u001b[0m\n\u001b[1;32m     32\u001b[0m     \u001b[0mdf\u001b[0m\u001b[0;34m.\u001b[0m\u001b[0mindex\u001b[0m \u001b[0;34m=\u001b[0m \u001b[0mpd\u001b[0m\u001b[0;34m.\u001b[0m\u001b[0mto_datetime\u001b[0m\u001b[0;34m(\u001b[0m\u001b[0mdf\u001b[0m\u001b[0;34m.\u001b[0m\u001b[0mindex\u001b[0m\u001b[0;34m)\u001b[0m\u001b[0;34m\u001b[0m\u001b[0;34m\u001b[0m\u001b[0m\n",
            "\u001b[0;31mKeyError\u001b[0m: 'Time Series (Daily)'"
          ]
        }
      ]
    }
  ]
}